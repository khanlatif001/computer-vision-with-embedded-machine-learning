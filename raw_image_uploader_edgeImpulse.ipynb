{
  "cells": [
    {
      "cell_type": "markdown",
      "metadata": {
        "id": "view-in-github",
        "colab_type": "text"
      },
      "source": [
        "<a href=\"https://colab.research.google.com/github/khanlatif001/computer-vision-with-embedded-machine-learning/blob/main/raw_image_uploader_edgeImpulse.ipynb\" target=\"_parent\"><img src=\"https://colab.research.google.com/assets/colab-badge.svg\" alt=\"Open In Colab\"/></a>"
      ]
    },
    {
      "cell_type": "markdown",
      "id": "05650c7c",
      "metadata": {
        "id": "05650c7c"
      },
      "source": [
        "# # Image Classification: Raw Uploader"
      ]
    },
    {
      "cell_type": "code",
      "execution_count": null,
      "id": "413acf66",
      "metadata": {
        "id": "413acf66"
      },
      "outputs": [],
      "source": [
        "import numpy as np\n",
        "import matplotlib.pyplot as plt\n",
        "\n",
        "import random, os, PIL, json, time, hmac, hashlib, requests, threading, queue\n",
        "\n",
        "from skimage.transform import resize                      # Used to scale/resize image arrays"
      ]
    },
    {
      "cell_type": "code",
      "execution_count": null,
      "id": "984ac4df",
      "metadata": {
        "id": "984ac4df"
      },
      "outputs": [],
      "source": [
        "### Settings\n",
        "\n",
        "# Edge Impulse > your_project > Dashboard > Keys\n",
        "EI_API_KEY = \"ei_1add4e2dc8c3ef924e2ee2ff7aa0f590989dbad1b6cd3b096a4b66b491e94a77\" \n",
        "EI_HMAC_KEY = \"cf7dd2a99697272de7506137ccee892c\"\n",
        "\n",
        "# Number of threads to run to upload data to Edge Impulse\n",
        "NUM_THREADS = 20\n",
        "\n",
        "# Location of dataset\n",
        "DATASET_PATH = \"electronic-components-bmp\"\n",
        "\n",
        "# Desired resolution of images\n",
        "TARGET_WIDTH = 28\n",
        "TARGET_HEIGHT = 28\n",
        "\n",
        "# Invert image (dark backgrounds can sometimes improve accuracy)\n",
        "INVERT = False\n",
        "\n",
        "# Set aside 20% for test set (Edge Impulse automatically extracts validation set during training)\n",
        "TEST_RATIO = 0.2\n",
        "\n",
        "# You are welcome to change the seed to try a different validation set split\n",
        "random.seed(42)"
      ]
    },
    {
      "cell_type": "markdown",
      "id": "1aaa9a47",
      "metadata": {
        "id": "1aaa9a47"
      },
      "source": [
        "# ## Curate Image Dataset\n",
        "\n",
        "The following cells perform the following:\n",
        " * Load images from filesystem as grayscale values\n",
        " * Set aside some portion of the dataset as test data\n",
        " * Resize images\n",
        " * Normalize pixel value from [0, 255] to [0.0, 1.0]\n",
        " * Flatten images to 1D array"
      ]
    },
    {
      "cell_type": "code",
      "execution_count": null,
      "id": "c178eec8",
      "metadata": {
        "id": "c178eec8",
        "outputId": "8063519e-de9e-4794-c101-d000fd2d9222"
      },
      "outputs": [
        {
          "name": "stdout",
          "output_type": "stream",
          "text": [
            "Added 50 images from background\n",
            "Added 50 images from capacitor\n",
            "Added 50 images from diode\n",
            "Added 50 images from led\n",
            "Added 50 images from resistor\n",
            "['background', 'capacitor', 'diode', 'led', 'resistor']\n",
            "Number of samples: 250\n"
          ]
        }
      ],
      "source": [
        "### Load images as Numpy arrays\n",
        "\n",
        "# We want to record the labels and assign a ground truth label as a number to each sample\n",
        "labels = []\n",
        "y_all = []    # Lowercase 'y' - 1D vector of the ground truth labels (n)\n",
        "X_all = []    # Uppercase 'X' - 3D array of all image samples (n x width x height)\n",
        "\n",
        "# Find the directories in the dataset folder (skip the Jupyter Notebook checkpoints hidden folder)\n",
        "for label in os.listdir(DATASET_PATH):\n",
        "  class_dir = os.path.join(DATASET_PATH, label)\n",
        "  if os.path.isdir(class_dir) and label != \".ipynb_checkpoints\":\n",
        "\n",
        "    # Add the name of the folder to our labels list\n",
        "    labels.append(label)\n",
        "\n",
        "    # Go through each image in the folder\n",
        "    for i, file in enumerate(os.listdir(class_dir)):\n",
        "\n",
        "      # Skip the Jupyter Notebook checkpoints folder that sometimes gets added\n",
        "      if file != \".ipynb_checkpoints\":\n",
        "\n",
        "        # Open image and convert to grayscale\n",
        "        file_path = os.path.join(class_dir, file)\n",
        "        img = PIL.Image.open(file_path).convert('L')\n",
        "\n",
        "        # Convert the image to a Numpy array, optionally invern, and append to X\n",
        "        img_array = np.asarray(img)\n",
        "        if INVERT:\n",
        "          img_array = 255 - img_array\n",
        "        X_all.append(img_array)\n",
        "\n",
        "        # Add label to the y array\n",
        "        y_all.append(label)\n",
        "\n",
        "    # Show how many images we loaded\n",
        "    print(\"Added\", str(i + 1), \"images from\", label)\n",
        "\n",
        "# Calculate total number of samples\n",
        "num_samples = len(X_all)\n",
        "\n",
        "# Sort the labels list by alphabetical order\n",
        "labels = sorted(labels)\n",
        "\n",
        "# Print out labels and number of samples\n",
        "print(labels)\n",
        "print(\"Number of samples:\", num_samples)"
      ]
    },
    {
      "cell_type": "code",
      "execution_count": null,
      "id": "c2c64325",
      "metadata": {
        "id": "c2c64325",
        "outputId": "15e5da40-4a89-4a5e-deda-a30ea97748ba"
      },
      "outputs": [
        {
          "name": "stdout",
          "output_type": "stream",
          "text": [
            "Number of test samples: 50\n",
            "Number of training samples: 200\n"
          ]
        }
      ],
      "source": [
        "### Shuffle samples and labels together, divide into test and training sets\n",
        "\n",
        "# Shuffle samples and associated labels together\n",
        "X_y = list(zip(X_all, y_all))\n",
        "random.shuffle(X_y)\n",
        "X_all, y_all = zip(*X_y)\n",
        "\n",
        "# Calculate number of validation and test samples to put aside (round down)\n",
        "num_samples_test = int(TEST_RATIO * num_samples)\n",
        "\n",
        "# The first `num_samples_test` samples of the shuffled list becomes the test set\n",
        "X_test = X_all[:num_samples_test]\n",
        "y_test = y_all[:num_samples_test]\n",
        "\n",
        "# The remaining samples become the training set\n",
        "X_train = X_all[num_samples_test:]\n",
        "y_train = y_all[num_samples_test:]\n",
        "\n",
        "# Remember the number of samples in the test set\n",
        "num_samples_train = len(X_train)\n",
        "\n",
        "# Print out the number of test and training samples\n",
        "print(\"Number of test samples:\", num_samples_test)\n",
        "print(\"Number of training samples:\", num_samples_train)"
      ]
    },
    {
      "cell_type": "code",
      "execution_count": null,
      "id": "980e1e50",
      "metadata": {
        "id": "980e1e50",
        "outputId": "4077e7f2-4767-41ae-fc4f-4b15b1114ded"
      },
      "outputs": [
        {
          "name": "stdout",
          "output_type": "stream",
          "text": [
            "Label: diode\n",
            "[[146 146 146 ... 149 149 149]\n",
            " [146 149 146 ... 152 152 152]\n",
            " [146 146 146 ... 152 152 152]\n",
            " ...\n",
            " [138 138 138 ... 149 149 149]\n",
            " [138 138 138 ... 149 149 149]\n",
            " [138 138 138 ... 149 149 149]]\n"
          ]
        },
        {
          "data": {
            "text/plain": [
              "<matplotlib.image.AxesImage at 0x20990c640d0>"
            ]
          },
          "execution_count": 8,
          "metadata": {},
          "output_type": "execute_result"
        },
        {
          "data": {
            "image/png": "[encoded data removed]",
            "text/plain": [
              "<Figure size 432x288 with 1 Axes>"
            ]
          },
          "metadata": {
            "needs_background": "light"
          },
          "output_type": "display_data"
        }
      ],
      "source": [
        "### View one of the training samples\n",
        "\n",
        "# Chose which sample you want to view\n",
        "idx = 0\n",
        "\n",
        "# Print out label (numbe and string) and part of the array\n",
        "print(\"Label: \" + y_train[idx])\n",
        "print(X_train[idx])\n",
        "\n",
        "# Display image from array\n",
        "plt.imshow(X_train[idx], cmap='gray', vmin=0, vmax=255)"
      ]
    },
    {
      "cell_type": "code",
      "execution_count": null,
      "id": "18dfe4a3",
      "metadata": {
        "id": "18dfe4a3"
      },
      "outputs": [],
      "source": [
        "### Function to resize list of images\n",
        "def resize_images(images, width, height, anti_aliasing=True):\n",
        "  \"\"\"\n",
        "  Prove a list of Numpy arrays (in images parameter) to have them all resized to desired height and\n",
        "  width. Returns the list of newly resized image arrays.\n",
        "\n",
        "  NOTE: skimage resize returns *normalized* image arrays (values between 0..1)\n",
        "  \"\"\"\n",
        "  X_out = []\n",
        "  for i, img in enumerate(images):\n",
        "    X_out.append(resize(img, (height, width), anti_aliasing=anti_aliasing))\n",
        "  return X_out"
      ]
    },
    {
      "cell_type": "code",
      "execution_count": null,
      "id": "13715a54",
      "metadata": {
        "id": "13715a54"
      },
      "outputs": [],
      "source": [
        "### Scale/crop images (Note: also normalizes data to 0..1)\n",
        "\n",
        "# Resize (scale) all images in the training set\n",
        "X_train = resize_images(X_train, TARGET_WIDTH, TARGET_HEIGHT)\n",
        "\n",
        "# Resize (scale) all images in the test set\n",
        "X_test = resize_images(X_test, TARGET_WIDTH, TARGET_HEIGHT)"
      ]
    },
    {
      "cell_type": "code",
      "execution_count": null,
      "id": "30d7e4fb",
      "metadata": {
        "id": "30d7e4fb",
        "outputId": "6528627b-bfe2-42a5-932a-a59455fc1e28"
      },
      "outputs": [
        {
          "name": "stdout",
          "output_type": "stream",
          "text": [
            "Label: diode\n",
            "First row: [[0.57254902 0.57647059 0.57647059 0.57689076 0.57731092 0.58039216\n",
            "  0.58039216 0.58581433 0.59215686 0.59607843 0.59607843 0.59607843\n",
            "  0.59607843 0.59607843 0.5929972  0.5929972  0.59321729 0.59607843\n",
            "  0.59607843 0.59467787 0.58907563 0.59215686 0.59215686 0.59321729\n",
            "  0.59607843 0.58935574 0.58039216 0.58757503]]\n"
          ]
        },
        {
          "data": {
            "text/plain": [
              "<matplotlib.image.AxesImage at 0x209913f8730>"
            ]
          },
          "execution_count": 11,
          "metadata": {},
          "output_type": "execute_result"
        },
        {
          "data": {
            "image/png": "[encoded data removed]",
            "text/plain": [
              "<Figure size 432x288 with 1 Axes>"
            ]
          },
          "metadata": {
            "needs_background": "light"
          },
          "output_type": "display_data"
        }
      ],
      "source": [
        "### View training sample again (after they all have been scaled)\n",
        "\n",
        "# Chose which sample you want to view\n",
        "idx = 0\n",
        "\n",
        "# Print out label (numbe and string) and part of the array\n",
        "print(\"Label: \" + y_train[idx])\n",
        "print(\"First row:\", X_train[idx][:1,:])\n",
        "\n",
        "# Display image from array (note that images have been normalized)\n",
        "plt.imshow(X_train[idx], cmap='gray', vmin=0, vmax=1)"
      ]
    },
    {
      "cell_type": "code",
      "execution_count": null,
      "id": "0791e72f",
      "metadata": {
        "id": "0791e72f",
        "outputId": "c75925a8-bbd0-4714-b5a8-f9c3490689c4"
      },
      "outputs": [
        {
          "name": "stdout",
          "output_type": "stream",
          "text": [
            "Training X: (200, 28, 28)\n",
            "Test X: (50, 28, 28)\n"
          ]
        }
      ],
      "source": [
        "### Convert list of samples into Numpy arrays\n",
        "\n",
        "# Convert sets\n",
        "X_train = np.asarray(X_train)\n",
        "X_test = np.asarray(X_test)\n",
        "\n",
        "# Print out the new Numpy array shapes (always a good idea to check the shapes!)\n",
        "print(\"Training X:\", X_train.shape)\n",
        "print(\"Test X:\", X_test.shape)"
      ]
    },
    {
      "cell_type": "code",
      "execution_count": null,
      "id": "a8bbe9d8",
      "metadata": {
        "id": "a8bbe9d8",
        "outputId": "ce8da07a-c2ae-4c2d-e406-291cd0854cc3"
      },
      "outputs": [
        {
          "name": "stdout",
          "output_type": "stream",
          "text": [
            "Training X: (200, 784)\n",
            "Test X: (50, 784)\n"
          ]
        }
      ],
      "source": [
        "### Flatten each image to a 1D vector (DNN requires 1D input)\n",
        "\n",
        "# Compute length of 1D array that we will flatten each image to\n",
        "len_vector = TARGET_WIDTH * TARGET_WIDTH\n",
        "\n",
        "# Flatten matricies to vectors\n",
        "X_train = X_train.reshape(num_samples_train, len_vector)\n",
        "X_test = X_test.reshape(num_samples_test, len_vector)\n",
        "\n",
        "# Print out the new Numpy array shapes (always a good idea to check the shapes!)\n",
        "print(\"Training X:\", X_train.shape)\n",
        "print(\"Test X:\", X_test.shape)"
      ]
    },
    {
      "cell_type": "markdown",
      "id": "b26aca30",
      "metadata": {
        "id": "b26aca30"
      },
      "source": [
        "# ## Helper Functions\n",
        "\n",
        "The following functions are used to assist in task of uploading samples to your Edge Impulse project."
      ]
    },
    {
      "cell_type": "code",
      "execution_count": null,
      "id": "acd8a33b",
      "metadata": {
        "id": "acd8a33b"
      },
      "outputs": [],
      "source": [
        "def create_json_wrapper():\n",
        "  \"\"\"\n",
        "  Construct initial JSON wrapper as a template\n",
        "  \"\"\"\n",
        "\n",
        "  # Start with all zeros. Hs256 gives 32 bytes and we encode in hex. So, we need 64 characters here.\n",
        "  empty_signature = ''.join(['0'] * 64)\n",
        "\n",
        "  # Create JSON wrapper for data\n",
        "  data = {\n",
        "      \"protected\": {\n",
        "          \"ver\": \"v1\",\n",
        "          \"alg\": \"HS256\",\n",
        "          \"iat\": time.time()                  # Epoch time, seconds since 1970\n",
        "      },\n",
        "      \"signature\": empty_signature,\n",
        "      \"payload\": {\n",
        "          \"device_type\": \"pre-made\",          # Pre-made dataset (not collected)\n",
        "          \"interval_ms\": 1,                   # Pretend it's interval of 1 ms\n",
        "          \"sensors\": [\n",
        "              { \"name\": \"img\", \"units\": \"B\" } # Unitless (\"Byte\" data)\n",
        "          ],\n",
        "          \"values\": []\n",
        "      }\n",
        "  }\n",
        "\n",
        "  return data"
      ]
    },
    {
      "cell_type": "code",
      "execution_count": null,
      "id": "e2b0ce87",
      "metadata": {
        "id": "e2b0ce87"
      },
      "outputs": [],
      "source": [
        "def send_sample(data, label, test_set=False):\n",
        "  \"\"\"\n",
        "  Send raw data sample to Edge Impulse project, return HTTP status code\n",
        "  \"\"\"\n",
        "\n",
        "  # Encode message in JSON format\n",
        "  encoded = json.dumps(data)\n",
        "\n",
        "  # Sign message\n",
        "  signature = hmac.new(bytes(EI_HMAC_KEY, 'utf-8'), \n",
        "                      msg = encoded.encode('utf-8'), \n",
        "                      digestmod = hashlib.sha256).hexdigest()\n",
        "\n",
        "  # Set the signature in the message and encode data again to JSON format\n",
        "  data['signature'] = signature\n",
        "  encoded = json.dumps(data)\n",
        "\n",
        "  # Construct URL based on dataset being sent\n",
        "  if test_set:\n",
        "    url = 'https://ingestion.edgeimpulse.com/api/testing/data'\n",
        "  else:\n",
        "    url = 'https://ingestion.edgeimpulse.com/api/training/data'\n",
        "\n",
        "  # Upload the data to project\n",
        "  res = requests.post(url=url,\n",
        "                      data=encoded,\n",
        "                      headers={\n",
        "                          'Content-Type': 'application/json',\n",
        "                          'x-file-name': str(label),\n",
        "                          'x-api-key': EI_API_KEY\n",
        "                      })\n",
        "  \n",
        "  return res"
      ]
    },
    {
      "cell_type": "code",
      "execution_count": null,
      "id": "a1369747",
      "metadata": {
        "id": "a1369747"
      },
      "outputs": [],
      "source": [
        "def upload_sample(len_vector, is_test_set):\n",
        "  \"\"\"\n",
        "  Pull sample and label from queue and send to Edge Impulse server. To be called within a thread.\n",
        "  \"\"\"\n",
        "\n",
        "  global q\n",
        "\n",
        "  while not q.empty():\n",
        "\n",
        "    # Start with empty JSON wrapper\n",
        "    data = create_json_wrapper()\n",
        "\n",
        "    # Fill up values field (we need to convert to float to avoid JSON error)\n",
        "    sample, label = q.get()\n",
        "    for j in range(len_vector):\n",
        "      data['payload']['values'].append(float(sample[j]))\n",
        "\n",
        "    # Send sample\n",
        "    res = send_sample(data, label, test_set=is_test_set)\n",
        "\n",
        "    # Check response code\n",
        "    if (res.status_code != 200):\n",
        "      print(\"Failed to upload file to Edge Impulse\", res.status_code, res.content)"
      ]
    },
    {
      "cell_type": "markdown",
      "id": "9153e3bb",
      "metadata": {
        "id": "9153e3bb"
      },
      "source": [
        "# ## Upload training and test sets to Edge Impulse"
      ]
    },
    {
      "cell_type": "code",
      "execution_count": null,
      "id": "fcaac6dc",
      "metadata": {
        "id": "fcaac6dc"
      },
      "outputs": [],
      "source": [
        "### Use many threads to send training data and labels to Edge Impulse project\n",
        "\n",
        "# Fill queue with training data and labels\n",
        "q = queue.Queue()\n",
        "for i in range(num_samples_train):\n",
        "  q.put((X_train[i], y_train[i]))\n",
        "\n",
        "# Create and start threads\n",
        "threads = []\n",
        "for i in range(NUM_THREADS):\n",
        "  threads.append(threading.Thread(target=upload_sample, args=(len_vector, False)))\n",
        "  threads[i].start()\n",
        "\n",
        "# Wait for threads to be done\n",
        "for thread in threads:\n",
        "  thread.join()"
      ]
    },
    {
      "cell_type": "code",
      "execution_count": null,
      "id": "3e89a3ed",
      "metadata": {
        "id": "3e89a3ed"
      },
      "outputs": [],
      "source": [
        "### Use many threads to send test data and labels to Edge Impulse project\n",
        "\n",
        "# Fill queue with test data and labels\n",
        "q = queue.Queue()\n",
        "for i in range(num_samples_test):\n",
        "  q.put((X_test[i], y_test[i]))\n",
        "\n",
        "# Create and start threads\n",
        "threads = []\n",
        "for i in range(NUM_THREADS):\n",
        "  threads.append(threading.Thread(target=upload_sample, args=(len_vector, True)))\n",
        "  threads[i].start()\n",
        "\n",
        "# Wait for threads to be done\n",
        "for thread in threads:\n",
        "  thread.join()"
      ]
    },
    {
      "cell_type": "code",
      "execution_count": null,
      "id": "9a21d9d6",
      "metadata": {
        "id": "9a21d9d6"
      },
      "outputs": [],
      "source": [
        ""
      ]
    },
    {
      "cell_type": "code",
      "execution_count": null,
      "id": "512da133",
      "metadata": {
        "id": "512da133"
      },
      "outputs": [],
      "source": [
        ""
      ]
    }
  ],
  "metadata": {
    "kernelspec": {
      "display_name": "Python 3 (ipykernel)",
      "language": "python",
      "name": "python3"
    },
    "language_info": {
      "codemirror_mode": {
        "name": "ipython",
        "version": 3
      },
      "file_extension": ".py",
      "mimetype": "text/x-python",
      "name": "python",
      "nbconvert_exporter": "python",
      "pygments_lexer": "ipython3",
      "version": "3.9.7"
    },
    "colab": {
      "name": "raw-image-uploader-edgeImpulse.ipynb",
      "provenance": [],
      "include_colab_link": true
    }
  },
  "nbformat": 4,
  "nbformat_minor": 5
}